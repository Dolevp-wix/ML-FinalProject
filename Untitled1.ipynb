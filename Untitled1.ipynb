{
 "cells": [
  {
   "cell_type": "code",
   "execution_count": 3,
   "id": "7099ce71",
   "metadata": {},
   "outputs": [
    {
     "ename": "ImportError",
     "evalue": "DLL load failed while importing _arpack: The specified procedure could not be found.",
     "output_type": "error",
     "traceback": [
      "\u001b[1;31m---------------------------------------------------------------------------\u001b[0m",
      "\u001b[1;31mImportError\u001b[0m                               Traceback (most recent call last)",
      "Input \u001b[1;32mIn [3]\u001b[0m, in \u001b[0;36m<cell line: 7>\u001b[1;34m()\u001b[0m\n\u001b[0;32m      5\u001b[0m \u001b[38;5;28;01mfrom\u001b[39;00m \u001b[38;5;21;01mkeras\u001b[39;00m\u001b[38;5;21;01m.\u001b[39;00m\u001b[38;5;21;01mlayers\u001b[39;00m \u001b[38;5;28;01mimport\u001b[39;00m Dense\n\u001b[0;32m      6\u001b[0m \u001b[38;5;28;01mimport\u001b[39;00m \u001b[38;5;21;01mtime\u001b[39;00m\n\u001b[1;32m----> 7\u001b[0m \u001b[38;5;28;01mimport\u001b[39;00m \u001b[38;5;21;01mseaborn\u001b[39;00m \u001b[38;5;28;01mas\u001b[39;00m \u001b[38;5;21;01msn\u001b[39;00m\n\u001b[0;32m      8\u001b[0m \u001b[38;5;28;01mfrom\u001b[39;00m \u001b[38;5;21;01msklearn\u001b[39;00m\u001b[38;5;21;01m.\u001b[39;00m\u001b[38;5;21;01mmetrics\u001b[39;00m \u001b[38;5;28;01mimport\u001b[39;00m confusion_matrix\n",
      "File \u001b[1;32m~\\anaconda3\\lib\\site-packages\\seaborn\\__init__.py:2\u001b[0m, in \u001b[0;36m<module>\u001b[1;34m\u001b[0m\n\u001b[0;32m      1\u001b[0m \u001b[38;5;66;03m# Import seaborn objects\u001b[39;00m\n\u001b[1;32m----> 2\u001b[0m \u001b[38;5;28;01mfrom\u001b[39;00m \u001b[38;5;21;01m.\u001b[39;00m\u001b[38;5;21;01mrcmod\u001b[39;00m \u001b[38;5;28;01mimport\u001b[39;00m \u001b[38;5;241m*\u001b[39m  \u001b[38;5;66;03m# noqa: F401,F403\u001b[39;00m\n\u001b[0;32m      3\u001b[0m \u001b[38;5;28;01mfrom\u001b[39;00m \u001b[38;5;21;01m.\u001b[39;00m\u001b[38;5;21;01mutils\u001b[39;00m \u001b[38;5;28;01mimport\u001b[39;00m \u001b[38;5;241m*\u001b[39m  \u001b[38;5;66;03m# noqa: F401,F403\u001b[39;00m\n\u001b[0;32m      4\u001b[0m \u001b[38;5;28;01mfrom\u001b[39;00m \u001b[38;5;21;01m.\u001b[39;00m\u001b[38;5;21;01mpalettes\u001b[39;00m \u001b[38;5;28;01mimport\u001b[39;00m \u001b[38;5;241m*\u001b[39m  \u001b[38;5;66;03m# noqa: F401,F403\u001b[39;00m\n",
      "File \u001b[1;32m~\\anaconda3\\lib\\site-packages\\seaborn\\rcmod.py:7\u001b[0m, in \u001b[0;36m<module>\u001b[1;34m\u001b[0m\n\u001b[0;32m      5\u001b[0m \u001b[38;5;28;01mimport\u001b[39;00m \u001b[38;5;21;01mmatplotlib\u001b[39;00m \u001b[38;5;28;01mas\u001b[39;00m \u001b[38;5;21;01mmpl\u001b[39;00m\n\u001b[0;32m      6\u001b[0m \u001b[38;5;28;01mfrom\u001b[39;00m \u001b[38;5;21;01mcycler\u001b[39;00m \u001b[38;5;28;01mimport\u001b[39;00m cycler\n\u001b[1;32m----> 7\u001b[0m \u001b[38;5;28;01mfrom\u001b[39;00m \u001b[38;5;21;01m.\u001b[39;00m \u001b[38;5;28;01mimport\u001b[39;00m palettes\n\u001b[0;32m     10\u001b[0m __all__ \u001b[38;5;241m=\u001b[39m [\u001b[38;5;124m\"\u001b[39m\u001b[38;5;124mset_theme\u001b[39m\u001b[38;5;124m\"\u001b[39m, \u001b[38;5;124m\"\u001b[39m\u001b[38;5;124mset\u001b[39m\u001b[38;5;124m\"\u001b[39m, \u001b[38;5;124m\"\u001b[39m\u001b[38;5;124mreset_defaults\u001b[39m\u001b[38;5;124m\"\u001b[39m, \u001b[38;5;124m\"\u001b[39m\u001b[38;5;124mreset_orig\u001b[39m\u001b[38;5;124m\"\u001b[39m,\n\u001b[0;32m     11\u001b[0m            \u001b[38;5;124m\"\u001b[39m\u001b[38;5;124maxes_style\u001b[39m\u001b[38;5;124m\"\u001b[39m, \u001b[38;5;124m\"\u001b[39m\u001b[38;5;124mset_style\u001b[39m\u001b[38;5;124m\"\u001b[39m, \u001b[38;5;124m\"\u001b[39m\u001b[38;5;124mplotting_context\u001b[39m\u001b[38;5;124m\"\u001b[39m, \u001b[38;5;124m\"\u001b[39m\u001b[38;5;124mset_context\u001b[39m\u001b[38;5;124m\"\u001b[39m,\n\u001b[0;32m     12\u001b[0m            \u001b[38;5;124m\"\u001b[39m\u001b[38;5;124mset_palette\u001b[39m\u001b[38;5;124m\"\u001b[39m]\n\u001b[0;32m     15\u001b[0m _style_keys \u001b[38;5;241m=\u001b[39m [\n\u001b[0;32m     16\u001b[0m \n\u001b[0;32m     17\u001b[0m     \u001b[38;5;124m\"\u001b[39m\u001b[38;5;124maxes.facecolor\u001b[39m\u001b[38;5;124m\"\u001b[39m,\n\u001b[1;32m   (...)\u001b[0m\n\u001b[0;32m     52\u001b[0m \n\u001b[0;32m     53\u001b[0m ]\n",
      "File \u001b[1;32m~\\anaconda3\\lib\\site-packages\\seaborn\\palettes.py:9\u001b[0m, in \u001b[0;36m<module>\u001b[1;34m\u001b[0m\n\u001b[0;32m      5\u001b[0m \u001b[38;5;28;01mimport\u001b[39;00m \u001b[38;5;21;01mmatplotlib\u001b[39;00m \u001b[38;5;28;01mas\u001b[39;00m \u001b[38;5;21;01mmpl\u001b[39;00m\n\u001b[0;32m      7\u001b[0m \u001b[38;5;28;01mfrom\u001b[39;00m \u001b[38;5;21;01m.\u001b[39;00m\u001b[38;5;21;01mexternal\u001b[39;00m \u001b[38;5;28;01mimport\u001b[39;00m husl\n\u001b[1;32m----> 9\u001b[0m \u001b[38;5;28;01mfrom\u001b[39;00m \u001b[38;5;21;01m.\u001b[39;00m\u001b[38;5;21;01mutils\u001b[39;00m \u001b[38;5;28;01mimport\u001b[39;00m desaturate, get_color_cycle\n\u001b[0;32m     10\u001b[0m \u001b[38;5;28;01mfrom\u001b[39;00m \u001b[38;5;21;01m.\u001b[39;00m\u001b[38;5;21;01mcolors\u001b[39;00m \u001b[38;5;28;01mimport\u001b[39;00m xkcd_rgb, crayons\n\u001b[0;32m     13\u001b[0m __all__ \u001b[38;5;241m=\u001b[39m [\u001b[38;5;124m\"\u001b[39m\u001b[38;5;124mcolor_palette\u001b[39m\u001b[38;5;124m\"\u001b[39m, \u001b[38;5;124m\"\u001b[39m\u001b[38;5;124mhls_palette\u001b[39m\u001b[38;5;124m\"\u001b[39m, \u001b[38;5;124m\"\u001b[39m\u001b[38;5;124mhusl_palette\u001b[39m\u001b[38;5;124m\"\u001b[39m, \u001b[38;5;124m\"\u001b[39m\u001b[38;5;124mmpl_palette\u001b[39m\u001b[38;5;124m\"\u001b[39m,\n\u001b[0;32m     14\u001b[0m            \u001b[38;5;124m\"\u001b[39m\u001b[38;5;124mdark_palette\u001b[39m\u001b[38;5;124m\"\u001b[39m, \u001b[38;5;124m\"\u001b[39m\u001b[38;5;124mlight_palette\u001b[39m\u001b[38;5;124m\"\u001b[39m, \u001b[38;5;124m\"\u001b[39m\u001b[38;5;124mdiverging_palette\u001b[39m\u001b[38;5;124m\"\u001b[39m,\n\u001b[0;32m     15\u001b[0m            \u001b[38;5;124m\"\u001b[39m\u001b[38;5;124mblend_palette\u001b[39m\u001b[38;5;124m\"\u001b[39m, \u001b[38;5;124m\"\u001b[39m\u001b[38;5;124mxkcd_palette\u001b[39m\u001b[38;5;124m\"\u001b[39m, \u001b[38;5;124m\"\u001b[39m\u001b[38;5;124mcrayon_palette\u001b[39m\u001b[38;5;124m\"\u001b[39m,\n\u001b[0;32m     16\u001b[0m            \u001b[38;5;124m\"\u001b[39m\u001b[38;5;124mcubehelix_palette\u001b[39m\u001b[38;5;124m\"\u001b[39m, \u001b[38;5;124m\"\u001b[39m\u001b[38;5;124mset_color_codes\u001b[39m\u001b[38;5;124m\"\u001b[39m]\n",
      "File \u001b[1;32m~\\anaconda3\\lib\\site-packages\\seaborn\\utils.py:10\u001b[0m, in \u001b[0;36m<module>\u001b[1;34m\u001b[0m\n\u001b[0;32m      7\u001b[0m \u001b[38;5;28;01mfrom\u001b[39;00m \u001b[38;5;21;01murllib\u001b[39;00m\u001b[38;5;21;01m.\u001b[39;00m\u001b[38;5;21;01mrequest\u001b[39;00m \u001b[38;5;28;01mimport\u001b[39;00m urlopen, urlretrieve\n\u001b[0;32m      9\u001b[0m \u001b[38;5;28;01mimport\u001b[39;00m \u001b[38;5;21;01mnumpy\u001b[39;00m \u001b[38;5;28;01mas\u001b[39;00m \u001b[38;5;21;01mnp\u001b[39;00m\n\u001b[1;32m---> 10\u001b[0m \u001b[38;5;28;01mfrom\u001b[39;00m \u001b[38;5;21;01mscipy\u001b[39;00m \u001b[38;5;28;01mimport\u001b[39;00m stats\n\u001b[0;32m     11\u001b[0m \u001b[38;5;28;01mimport\u001b[39;00m \u001b[38;5;21;01mpandas\u001b[39;00m \u001b[38;5;28;01mas\u001b[39;00m \u001b[38;5;21;01mpd\u001b[39;00m\n\u001b[0;32m     12\u001b[0m \u001b[38;5;28;01mimport\u001b[39;00m \u001b[38;5;21;01mmatplotlib\u001b[39;00m \u001b[38;5;28;01mas\u001b[39;00m \u001b[38;5;21;01mmpl\u001b[39;00m\n",
      "File \u001b[1;32m~\\anaconda3\\lib\\site-packages\\scipy\\stats\\__init__.py:441\u001b[0m, in \u001b[0;36m<module>\u001b[1;34m\u001b[0m\n\u001b[0;32m      1\u001b[0m \u001b[38;5;124;03m\"\"\"\u001b[39;00m\n\u001b[0;32m      2\u001b[0m \u001b[38;5;124;03m.. _statsrefmanual:\u001b[39;00m\n\u001b[0;32m      3\u001b[0m \n\u001b[1;32m   (...)\u001b[0m\n\u001b[0;32m    438\u001b[0m \n\u001b[0;32m    439\u001b[0m \u001b[38;5;124;03m\"\"\"\u001b[39;00m\n\u001b[1;32m--> 441\u001b[0m \u001b[38;5;28;01mfrom\u001b[39;00m \u001b[38;5;21;01m.\u001b[39;00m\u001b[38;5;21;01mstats\u001b[39;00m \u001b[38;5;28;01mimport\u001b[39;00m \u001b[38;5;241m*\u001b[39m\n\u001b[0;32m    442\u001b[0m \u001b[38;5;28;01mfrom\u001b[39;00m \u001b[38;5;21;01m.\u001b[39;00m\u001b[38;5;21;01mdistributions\u001b[39;00m \u001b[38;5;28;01mimport\u001b[39;00m \u001b[38;5;241m*\u001b[39m\n\u001b[0;32m    443\u001b[0m \u001b[38;5;28;01mfrom\u001b[39;00m \u001b[38;5;21;01m.\u001b[39;00m\u001b[38;5;21;01mmorestats\u001b[39;00m \u001b[38;5;28;01mimport\u001b[39;00m \u001b[38;5;241m*\u001b[39m\n",
      "File \u001b[1;32m~\\anaconda3\\lib\\site-packages\\scipy\\stats\\stats.py:43\u001b[0m, in \u001b[0;36m<module>\u001b[1;34m\u001b[0m\n\u001b[0;32m     41\u001b[0m \u001b[38;5;28;01mimport\u001b[39;00m \u001b[38;5;21;01mscipy\u001b[39;00m\u001b[38;5;21;01m.\u001b[39;00m\u001b[38;5;21;01mspecial\u001b[39;00m \u001b[38;5;28;01mas\u001b[39;00m \u001b[38;5;21;01mspecial\u001b[39;00m\n\u001b[0;32m     42\u001b[0m \u001b[38;5;28;01mfrom\u001b[39;00m \u001b[38;5;21;01mscipy\u001b[39;00m \u001b[38;5;28;01mimport\u001b[39;00m linalg\n\u001b[1;32m---> 43\u001b[0m \u001b[38;5;28;01mfrom\u001b[39;00m \u001b[38;5;21;01m.\u001b[39;00m \u001b[38;5;28;01mimport\u001b[39;00m distributions\n\u001b[0;32m     44\u001b[0m \u001b[38;5;28;01mfrom\u001b[39;00m \u001b[38;5;21;01m.\u001b[39;00m \u001b[38;5;28;01mimport\u001b[39;00m mstats_basic\n\u001b[0;32m     45\u001b[0m \u001b[38;5;28;01mfrom\u001b[39;00m \u001b[38;5;21;01m.\u001b[39;00m\u001b[38;5;21;01m_stats_mstats_common\u001b[39;00m \u001b[38;5;28;01mimport\u001b[39;00m (_find_repeats, linregress, theilslopes,\n\u001b[0;32m     46\u001b[0m                                    siegelslopes)\n",
      "File \u001b[1;32m~\\anaconda3\\lib\\site-packages\\scipy\\stats\\distributions.py:8\u001b[0m, in \u001b[0;36m<module>\u001b[1;34m\u001b[0m\n\u001b[0;32m      1\u001b[0m \u001b[38;5;66;03m#\u001b[39;00m\n\u001b[0;32m      2\u001b[0m \u001b[38;5;66;03m# Author:  Travis Oliphant  2002-2011 with contributions from\u001b[39;00m\n\u001b[0;32m      3\u001b[0m \u001b[38;5;66;03m#          SciPy Developers 2004-2011\u001b[39;00m\n\u001b[1;32m   (...)\u001b[0m\n\u001b[0;32m      6\u001b[0m \u001b[38;5;66;03m#       instead of `git blame -Lxxx,+x`.\u001b[39;00m\n\u001b[0;32m      7\u001b[0m \u001b[38;5;66;03m#\u001b[39;00m\n\u001b[1;32m----> 8\u001b[0m \u001b[38;5;28;01mfrom\u001b[39;00m \u001b[38;5;21;01m.\u001b[39;00m\u001b[38;5;21;01m_distn_infrastructure\u001b[39;00m \u001b[38;5;28;01mimport\u001b[39;00m (rv_discrete, rv_continuous, rv_frozen)\n\u001b[0;32m     10\u001b[0m \u001b[38;5;28;01mfrom\u001b[39;00m \u001b[38;5;21;01m.\u001b[39;00m \u001b[38;5;28;01mimport\u001b[39;00m _continuous_distns\n\u001b[0;32m     11\u001b[0m \u001b[38;5;28;01mfrom\u001b[39;00m \u001b[38;5;21;01m.\u001b[39;00m \u001b[38;5;28;01mimport\u001b[39;00m _discrete_distns\n",
      "File \u001b[1;32m~\\anaconda3\\lib\\site-packages\\scipy\\stats\\_distn_infrastructure.py:24\u001b[0m, in \u001b[0;36m<module>\u001b[1;34m\u001b[0m\n\u001b[0;32m     20\u001b[0m \u001b[38;5;28;01mfrom\u001b[39;00m \u001b[38;5;21;01mscipy\u001b[39;00m\u001b[38;5;21;01m.\u001b[39;00m\u001b[38;5;21;01mspecial\u001b[39;00m \u001b[38;5;28;01mimport\u001b[39;00m (comb, chndtr, entr, xlogy, ive)\n\u001b[0;32m     22\u001b[0m \u001b[38;5;66;03m# for root finding for continuous distribution ppf, and max likelihood\u001b[39;00m\n\u001b[0;32m     23\u001b[0m \u001b[38;5;66;03m# estimation\u001b[39;00m\n\u001b[1;32m---> 24\u001b[0m \u001b[38;5;28;01mfrom\u001b[39;00m \u001b[38;5;21;01mscipy\u001b[39;00m \u001b[38;5;28;01mimport\u001b[39;00m optimize\n\u001b[0;32m     26\u001b[0m \u001b[38;5;66;03m# for functions of continuous distributions (e.g. moments, entropy, cdf)\u001b[39;00m\n\u001b[0;32m     27\u001b[0m \u001b[38;5;28;01mfrom\u001b[39;00m \u001b[38;5;21;01mscipy\u001b[39;00m \u001b[38;5;28;01mimport\u001b[39;00m integrate\n",
      "File \u001b[1;32m~\\anaconda3\\lib\\site-packages\\scipy\\optimize\\__init__.py:400\u001b[0m, in \u001b[0;36m<module>\u001b[1;34m\u001b[0m\n\u001b[0;32m      1\u001b[0m \u001b[38;5;124;03m\"\"\"\u001b[39;00m\n\u001b[0;32m      2\u001b[0m \u001b[38;5;124;03m=====================================================\u001b[39;00m\n\u001b[0;32m      3\u001b[0m \u001b[38;5;124;03mOptimization and root finding (:mod:`scipy.optimize`)\u001b[39;00m\n\u001b[1;32m   (...)\u001b[0m\n\u001b[0;32m    397\u001b[0m \u001b[38;5;124;03m:mod:`Additional information on the nonlinear solvers <scipy.optimize.nonlin>`\u001b[39;00m\n\u001b[0;32m    398\u001b[0m \u001b[38;5;124;03m\"\"\"\u001b[39;00m\n\u001b[1;32m--> 400\u001b[0m \u001b[38;5;28;01mfrom\u001b[39;00m \u001b[38;5;21;01m.\u001b[39;00m\u001b[38;5;21;01moptimize\u001b[39;00m \u001b[38;5;28;01mimport\u001b[39;00m \u001b[38;5;241m*\u001b[39m\n\u001b[0;32m    401\u001b[0m \u001b[38;5;28;01mfrom\u001b[39;00m \u001b[38;5;21;01m.\u001b[39;00m\u001b[38;5;21;01m_minimize\u001b[39;00m \u001b[38;5;28;01mimport\u001b[39;00m \u001b[38;5;241m*\u001b[39m\n\u001b[0;32m    402\u001b[0m \u001b[38;5;28;01mfrom\u001b[39;00m \u001b[38;5;21;01m.\u001b[39;00m\u001b[38;5;21;01m_root\u001b[39;00m \u001b[38;5;28;01mimport\u001b[39;00m \u001b[38;5;241m*\u001b[39m\n",
      "File \u001b[1;32m~\\anaconda3\\lib\\site-packages\\scipy\\optimize\\optimize.py:36\u001b[0m, in \u001b[0;36m<module>\u001b[1;34m\u001b[0m\n\u001b[0;32m     32\u001b[0m \u001b[38;5;28;01mimport\u001b[39;00m \u001b[38;5;21;01mnumpy\u001b[39;00m \u001b[38;5;28;01mas\u001b[39;00m \u001b[38;5;21;01mnp\u001b[39;00m\n\u001b[0;32m     33\u001b[0m \u001b[38;5;28;01mfrom\u001b[39;00m \u001b[38;5;21;01m.\u001b[39;00m\u001b[38;5;21;01mlinesearch\u001b[39;00m \u001b[38;5;28;01mimport\u001b[39;00m (line_search_wolfe1, line_search_wolfe2,\n\u001b[0;32m     34\u001b[0m                          line_search_wolfe2 \u001b[38;5;28;01mas\u001b[39;00m line_search,\n\u001b[0;32m     35\u001b[0m                          LineSearchWarning)\n\u001b[1;32m---> 36\u001b[0m \u001b[38;5;28;01mfrom\u001b[39;00m \u001b[38;5;21;01m.\u001b[39;00m\u001b[38;5;21;01m_numdiff\u001b[39;00m \u001b[38;5;28;01mimport\u001b[39;00m approx_derivative\n\u001b[0;32m     37\u001b[0m \u001b[38;5;28;01mfrom\u001b[39;00m \u001b[38;5;21;01mscipy\u001b[39;00m\u001b[38;5;21;01m.\u001b[39;00m\u001b[38;5;21;01m_lib\u001b[39;00m\u001b[38;5;21;01m.\u001b[39;00m\u001b[38;5;21;01m_util\u001b[39;00m \u001b[38;5;28;01mimport\u001b[39;00m getfullargspec_no_self \u001b[38;5;28;01mas\u001b[39;00m _getfullargspec\n\u001b[0;32m     38\u001b[0m \u001b[38;5;28;01mfrom\u001b[39;00m \u001b[38;5;21;01mscipy\u001b[39;00m\u001b[38;5;21;01m.\u001b[39;00m\u001b[38;5;21;01m_lib\u001b[39;00m\u001b[38;5;21;01m.\u001b[39;00m\u001b[38;5;21;01m_util\u001b[39;00m \u001b[38;5;28;01mimport\u001b[39;00m MapWrapper\n",
      "File \u001b[1;32m~\\anaconda3\\lib\\site-packages\\scipy\\optimize\\_numdiff.py:6\u001b[0m, in \u001b[0;36m<module>\u001b[1;34m\u001b[0m\n\u001b[0;32m      3\u001b[0m \u001b[38;5;28;01mimport\u001b[39;00m \u001b[38;5;21;01mnumpy\u001b[39;00m \u001b[38;5;28;01mas\u001b[39;00m \u001b[38;5;21;01mnp\u001b[39;00m\n\u001b[0;32m      4\u001b[0m \u001b[38;5;28;01mfrom\u001b[39;00m \u001b[38;5;21;01mnumpy\u001b[39;00m\u001b[38;5;21;01m.\u001b[39;00m\u001b[38;5;21;01mlinalg\u001b[39;00m \u001b[38;5;28;01mimport\u001b[39;00m norm\n\u001b[1;32m----> 6\u001b[0m \u001b[38;5;28;01mfrom\u001b[39;00m \u001b[38;5;21;01mscipy\u001b[39;00m\u001b[38;5;21;01m.\u001b[39;00m\u001b[38;5;21;01msparse\u001b[39;00m\u001b[38;5;21;01m.\u001b[39;00m\u001b[38;5;21;01mlinalg\u001b[39;00m \u001b[38;5;28;01mimport\u001b[39;00m LinearOperator\n\u001b[0;32m      7\u001b[0m \u001b[38;5;28;01mfrom\u001b[39;00m \u001b[38;5;21;01m.\u001b[39;00m\u001b[38;5;21;01m.\u001b[39;00m\u001b[38;5;21;01msparse\u001b[39;00m \u001b[38;5;28;01mimport\u001b[39;00m issparse, csc_matrix, csr_matrix, coo_matrix, find\n\u001b[0;32m      8\u001b[0m \u001b[38;5;28;01mfrom\u001b[39;00m \u001b[38;5;21;01m.\u001b[39;00m\u001b[38;5;21;01m_group_columns\u001b[39;00m \u001b[38;5;28;01mimport\u001b[39;00m group_dense, group_sparse\n",
      "File \u001b[1;32m~\\anaconda3\\lib\\site-packages\\scipy\\sparse\\linalg\\__init__.py:114\u001b[0m, in \u001b[0;36m<module>\u001b[1;34m\u001b[0m\n\u001b[0;32m    112\u001b[0m \u001b[38;5;28;01mfrom\u001b[39;00m \u001b[38;5;21;01m.\u001b[39;00m\u001b[38;5;21;01mdsolve\u001b[39;00m \u001b[38;5;28;01mimport\u001b[39;00m \u001b[38;5;241m*\u001b[39m\n\u001b[0;32m    113\u001b[0m \u001b[38;5;28;01mfrom\u001b[39;00m \u001b[38;5;21;01m.\u001b[39;00m\u001b[38;5;21;01minterface\u001b[39;00m \u001b[38;5;28;01mimport\u001b[39;00m \u001b[38;5;241m*\u001b[39m\n\u001b[1;32m--> 114\u001b[0m \u001b[38;5;28;01mfrom\u001b[39;00m \u001b[38;5;21;01m.\u001b[39;00m\u001b[38;5;21;01meigen\u001b[39;00m \u001b[38;5;28;01mimport\u001b[39;00m \u001b[38;5;241m*\u001b[39m\n\u001b[0;32m    115\u001b[0m \u001b[38;5;28;01mfrom\u001b[39;00m \u001b[38;5;21;01m.\u001b[39;00m\u001b[38;5;21;01mmatfuncs\u001b[39;00m \u001b[38;5;28;01mimport\u001b[39;00m \u001b[38;5;241m*\u001b[39m\n\u001b[0;32m    116\u001b[0m \u001b[38;5;28;01mfrom\u001b[39;00m \u001b[38;5;21;01m.\u001b[39;00m\u001b[38;5;21;01m_onenormest\u001b[39;00m \u001b[38;5;28;01mimport\u001b[39;00m \u001b[38;5;241m*\u001b[39m\n",
      "File \u001b[1;32m~\\anaconda3\\lib\\site-packages\\scipy\\sparse\\linalg\\eigen\\__init__.py:9\u001b[0m, in \u001b[0;36m<module>\u001b[1;34m\u001b[0m\n\u001b[0;32m      1\u001b[0m \u001b[38;5;124;03m\"\"\"\u001b[39;00m\n\u001b[0;32m      2\u001b[0m \u001b[38;5;124;03mSparse Eigenvalue Solvers\u001b[39;00m\n\u001b[0;32m      3\u001b[0m \u001b[38;5;124;03m-------------------------\u001b[39;00m\n\u001b[1;32m   (...)\u001b[0m\n\u001b[0;32m      7\u001b[0m \n\u001b[0;32m      8\u001b[0m \u001b[38;5;124;03m\"\"\"\u001b[39;00m\n\u001b[1;32m----> 9\u001b[0m \u001b[38;5;28;01mfrom\u001b[39;00m \u001b[38;5;21;01m.\u001b[39;00m\u001b[38;5;21;01marpack\u001b[39;00m \u001b[38;5;28;01mimport\u001b[39;00m \u001b[38;5;241m*\u001b[39m\n\u001b[0;32m     10\u001b[0m \u001b[38;5;28;01mfrom\u001b[39;00m \u001b[38;5;21;01m.\u001b[39;00m\u001b[38;5;21;01mlobpcg\u001b[39;00m \u001b[38;5;28;01mimport\u001b[39;00m \u001b[38;5;241m*\u001b[39m\n\u001b[0;32m     12\u001b[0m __all__ \u001b[38;5;241m=\u001b[39m [s \u001b[38;5;28;01mfor\u001b[39;00m s \u001b[38;5;129;01min\u001b[39;00m \u001b[38;5;28mdir\u001b[39m() \u001b[38;5;28;01mif\u001b[39;00m \u001b[38;5;129;01mnot\u001b[39;00m s\u001b[38;5;241m.\u001b[39mstartswith(\u001b[38;5;124m'\u001b[39m\u001b[38;5;124m_\u001b[39m\u001b[38;5;124m'\u001b[39m)]\n",
      "File \u001b[1;32m~\\anaconda3\\lib\\site-packages\\scipy\\sparse\\linalg\\eigen\\arpack\\__init__.py:20\u001b[0m, in \u001b[0;36m<module>\u001b[1;34m\u001b[0m\n\u001b[0;32m      1\u001b[0m \u001b[38;5;124;03m\"\"\"\u001b[39;00m\n\u001b[0;32m      2\u001b[0m \u001b[38;5;124;03mEigenvalue solver using iterative methods.\u001b[39;00m\n\u001b[0;32m      3\u001b[0m \n\u001b[1;32m   (...)\u001b[0m\n\u001b[0;32m     18\u001b[0m \n\u001b[0;32m     19\u001b[0m \u001b[38;5;124;03m\"\"\"\u001b[39;00m\n\u001b[1;32m---> 20\u001b[0m \u001b[38;5;28;01mfrom\u001b[39;00m \u001b[38;5;21;01m.\u001b[39;00m\u001b[38;5;21;01marpack\u001b[39;00m \u001b[38;5;28;01mimport\u001b[39;00m \u001b[38;5;241m*\u001b[39m\n",
      "File \u001b[1;32m~\\anaconda3\\lib\\site-packages\\scipy\\sparse\\linalg\\eigen\\arpack\\arpack.py:42\u001b[0m, in \u001b[0;36m<module>\u001b[1;34m\u001b[0m\n\u001b[0;32m     38\u001b[0m __docformat__ \u001b[38;5;241m=\u001b[39m \u001b[38;5;124m\"\u001b[39m\u001b[38;5;124mrestructuredtext en\u001b[39m\u001b[38;5;124m\"\u001b[39m\n\u001b[0;32m     40\u001b[0m __all__ \u001b[38;5;241m=\u001b[39m [\u001b[38;5;124m'\u001b[39m\u001b[38;5;124meigs\u001b[39m\u001b[38;5;124m'\u001b[39m, \u001b[38;5;124m'\u001b[39m\u001b[38;5;124meigsh\u001b[39m\u001b[38;5;124m'\u001b[39m, \u001b[38;5;124m'\u001b[39m\u001b[38;5;124msvds\u001b[39m\u001b[38;5;124m'\u001b[39m, \u001b[38;5;124m'\u001b[39m\u001b[38;5;124mArpackError\u001b[39m\u001b[38;5;124m'\u001b[39m, \u001b[38;5;124m'\u001b[39m\u001b[38;5;124mArpackNoConvergence\u001b[39m\u001b[38;5;124m'\u001b[39m]\n\u001b[1;32m---> 42\u001b[0m \u001b[38;5;28;01mfrom\u001b[39;00m \u001b[38;5;21;01m.\u001b[39;00m \u001b[38;5;28;01mimport\u001b[39;00m _arpack\n\u001b[0;32m     43\u001b[0m arpack_int \u001b[38;5;241m=\u001b[39m _arpack\u001b[38;5;241m.\u001b[39mtiming\u001b[38;5;241m.\u001b[39mnbx\u001b[38;5;241m.\u001b[39mdtype\n\u001b[0;32m     45\u001b[0m \u001b[38;5;28;01mimport\u001b[39;00m \u001b[38;5;21;01mnumpy\u001b[39;00m \u001b[38;5;28;01mas\u001b[39;00m \u001b[38;5;21;01mnp\u001b[39;00m\n",
      "\u001b[1;31mImportError\u001b[0m: DLL load failed while importing _arpack: The specified procedure could not be found."
     ]
    }
   ],
   "source": [
    "import numpy as np\n",
    "import pandas as pd\n",
    "import matplotlib.pyplot as plt\n",
    "from keras.models import Sequential\n",
    "from keras.layers import Dense\n",
    "import time\n",
    "import seaborn as sn\n",
    "from sklearn.metrics import confusion_matrix"
   ]
  },
  {
   "cell_type": "code",
   "execution_count": 2,
   "id": "b09d09dd",
   "metadata": {},
   "outputs": [
    {
     "name": "stdout",
     "output_type": "stream",
     "text": [
      "Collecting tensorflow-directml-plugin\n",
      "  Using cached tensorflow_directml_plugin-0.4.0.dev230202-cp39-cp39-win_amd64.whl (9.0 MB)\n",
      "Collecting tensorflow-cpu==2.10.0\n",
      "  Using cached tensorflow_cpu-2.10.0-cp39-cp39-win_amd64.whl (2.0 kB)\n",
      "Note: you may need to restart the kernel to use updated packages.Requirement already satisfied: grpcio>=1.8.6 in c:\\users\\shalt\\anaconda3\\lib\\site-packages (from tensorflow-directml-plugin) (1.42.0)\n",
      "Requirement already satisfied: wheel>=0.26 in c:\\users\\shalt\\anaconda3\\lib\\site-packages (from tensorflow-directml-plugin) (0.37.1)\n",
      "Collecting tensorflow-intel==2.10.0\n",
      "  Using cached tensorflow_intel-2.10.0-cp39-cp39-win_amd64.whl (262.6 MB)\n",
      "Collecting gast<=0.4.0,>=0.2.1\n",
      "  Using cached gast-0.4.0-py3-none-any.whl (9.8 kB)\n",
      "Collecting astunparse>=1.6.0\n",
      "  Using cached astunparse-1.6.3-py2.py3-none-any.whl (12 kB)\n",
      "Collecting keras<2.11,>=2.10.0\n",
      "  Using cached keras-2.10.0-py2.py3-none-any.whl (1.7 MB)\n",
      "Requirement already satisfied: six>=1.12.0 in c:\\users\\shalt\\anaconda3\\lib\\site-packages (from tensorflow-intel==2.10.0->tensorflow-cpu==2.10.0->tensorflow-directml-plugin) (1.16.0)\n",
      "Collecting tensorflow-estimator<2.11,>=2.10.0\n",
      "  Using cached tensorflow_estimator-2.10.0-py2.py3-none-any.whl (438 kB)\n",
      "Requirement already satisfied: setuptools in c:\\users\\shalt\\anaconda3\\lib\\site-packages (from tensorflow-intel==2.10.0->tensorflow-cpu==2.10.0->tensorflow-directml-plugin) (61.2.0)\n",
      "Requirement already satisfied: h5py>=2.9.0 in c:\\users\\shalt\\anaconda3\\lib\\site-packages (from tensorflow-intel==2.10.0->tensorflow-cpu==2.10.0->tensorflow-directml-plugin) (3.6.0)\n",
      "Collecting libclang>=13.0.0\n",
      "  Using cached libclang-15.0.6.1-py2.py3-none-win_amd64.whl (23.2 MB)\n",
      "Collecting tensorboard<2.11,>=2.10\n",
      "  Using cached tensorboard-2.10.1-py3-none-any.whl (5.9 MB)\n",
      "Requirement already satisfied: numpy>=1.20 in c:\\users\\shalt\\anaconda3\\lib\\site-packages (from tensorflow-intel==2.10.0->tensorflow-cpu==2.10.0->tensorflow-directml-plugin) (1.21.5)\n",
      "Requirement already satisfied: typing-extensions>=3.6.6 in c:\\users\\shalt\\anaconda3\\lib\\site-packages (from tensorflow-intel==2.10.0->tensorflow-cpu==2.10.0->tensorflow-directml-plugin) (4.1.1)\n",
      "Requirement already satisfied: protobuf<3.20,>=3.9.2 in c:\\users\\shalt\\anaconda3\\lib\\site-packages (from tensorflow-intel==2.10.0->tensorflow-cpu==2.10.0->tensorflow-directml-plugin) (3.19.1)\n",
      "Collecting tensorflow-io-gcs-filesystem>=0.23.1\n",
      "  Downloading tensorflow_io_gcs_filesystem-0.31.0-cp39-cp39-win_amd64.whl (1.5 MB)\n",
      "Collecting termcolor>=1.1.0\n",
      "  Using cached termcolor-2.2.0-py3-none-any.whl (6.6 kB)\n",
      "Collecting flatbuffers>=2.0\n",
      "\n",
      "  Using cached flatbuffers-23.1.21-py2.py3-none-any.whl (26 kB)\n",
      "Collecting absl-py>=1.0.0\n",
      "  Using cached absl_py-1.4.0-py3-none-any.whl (126 kB)\n",
      "Requirement already satisfied: packaging in c:\\users\\shalt\\anaconda3\\lib\\site-packages (from tensorflow-intel==2.10.0->tensorflow-cpu==2.10.0->tensorflow-directml-plugin) (21.3)\n",
      "Collecting keras-preprocessing>=1.1.1\n",
      "  Using cached Keras_Preprocessing-1.1.2-py2.py3-none-any.whl (42 kB)\n",
      "Collecting google-pasta>=0.1.1\n",
      "  Using cached google_pasta-0.2.0-py3-none-any.whl (57 kB)\n",
      "Requirement already satisfied: wrapt>=1.11.0 in c:\\users\\shalt\\anaconda3\\lib\\site-packages (from tensorflow-intel==2.10.0->tensorflow-cpu==2.10.0->tensorflow-directml-plugin) (1.12.1)\n",
      "Collecting opt-einsum>=2.3.2\n",
      "  Using cached opt_einsum-3.3.0-py3-none-any.whl (65 kB)\n",
      "Requirement already satisfied: google-auth<3,>=1.6.3 in c:\\users\\shalt\\anaconda3\\lib\\site-packages (from tensorboard<2.11,>=2.10->tensorflow-intel==2.10.0->tensorflow-cpu==2.10.0->tensorflow-directml-plugin) (1.33.0)\n",
      "Requirement already satisfied: werkzeug>=1.0.1 in c:\\users\\shalt\\anaconda3\\lib\\site-packages (from tensorboard<2.11,>=2.10->tensorflow-intel==2.10.0->tensorflow-cpu==2.10.0->tensorflow-directml-plugin) (2.0.3)\n",
      "Collecting tensorboard-plugin-wit>=1.6.0\n",
      "  Using cached tensorboard_plugin_wit-1.8.1-py3-none-any.whl (781 kB)\n",
      "Requirement already satisfied: markdown>=2.6.8 in c:\\users\\shalt\\anaconda3\\lib\\site-packages (from tensorboard<2.11,>=2.10->tensorflow-intel==2.10.0->tensorflow-cpu==2.10.0->tensorflow-directml-plugin) (3.3.4)\n",
      "Requirement already satisfied: requests<3,>=2.21.0 in c:\\users\\shalt\\anaconda3\\lib\\site-packages (from tensorboard<2.11,>=2.10->tensorflow-intel==2.10.0->tensorflow-cpu==2.10.0->tensorflow-directml-plugin) (2.27.1)\n",
      "Collecting tensorboard-data-server<0.7.0,>=0.6.0\n",
      "  Using cached tensorboard_data_server-0.6.1-py3-none-any.whl (2.4 kB)\n",
      "Collecting google-auth-oauthlib<0.5,>=0.4.1\n",
      "  Using cached google_auth_oauthlib-0.4.6-py2.py3-none-any.whl (18 kB)\n",
      "Requirement already satisfied: cachetools<5.0,>=2.0.0 in c:\\users\\shalt\\anaconda3\\lib\\site-packages (from google-auth<3,>=1.6.3->tensorboard<2.11,>=2.10->tensorflow-intel==2.10.0->tensorflow-cpu==2.10.0->tensorflow-directml-plugin) (4.2.2)\n",
      "Requirement already satisfied: pyasn1-modules>=0.2.1 in c:\\users\\shalt\\anaconda3\\lib\\site-packages (from google-auth<3,>=1.6.3->tensorboard<2.11,>=2.10->tensorflow-intel==2.10.0->tensorflow-cpu==2.10.0->tensorflow-directml-plugin) (0.2.8)\n",
      "Requirement already satisfied: rsa<5,>=3.1.4 in c:\\users\\shalt\\anaconda3\\lib\\site-packages (from google-auth<3,>=1.6.3->tensorboard<2.11,>=2.10->tensorflow-intel==2.10.0->tensorflow-cpu==2.10.0->tensorflow-directml-plugin) (4.7.2)\n",
      "Collecting requests-oauthlib>=0.7.0\n",
      "  Using cached requests_oauthlib-1.3.1-py2.py3-none-any.whl (23 kB)\n",
      "Requirement already satisfied: pyasn1<0.5.0,>=0.4.6 in c:\\users\\shalt\\anaconda3\\lib\\site-packages (from pyasn1-modules>=0.2.1->google-auth<3,>=1.6.3->tensorboard<2.11,>=2.10->tensorflow-intel==2.10.0->tensorflow-cpu==2.10.0->tensorflow-directml-plugin) (0.4.8)\n",
      "Requirement already satisfied: urllib3<1.27,>=1.21.1 in c:\\users\\shalt\\anaconda3\\lib\\site-packages (from requests<3,>=2.21.0->tensorboard<2.11,>=2.10->tensorflow-intel==2.10.0->tensorflow-cpu==2.10.0->tensorflow-directml-plugin) (1.26.9)\n",
      "Requirement already satisfied: charset-normalizer~=2.0.0 in c:\\users\\shalt\\anaconda3\\lib\\site-packages (from requests<3,>=2.21.0->tensorboard<2.11,>=2.10->tensorflow-intel==2.10.0->tensorflow-cpu==2.10.0->tensorflow-directml-plugin) (2.0.4)\n",
      "Requirement already satisfied: idna<4,>=2.5 in c:\\users\\shalt\\anaconda3\\lib\\site-packages (from requests<3,>=2.21.0->tensorboard<2.11,>=2.10->tensorflow-intel==2.10.0->tensorflow-cpu==2.10.0->tensorflow-directml-plugin) (3.3)\n",
      "Requirement already satisfied: certifi>=2017.4.17 in c:\\users\\shalt\\anaconda3\\lib\\site-packages (from requests<3,>=2.21.0->tensorboard<2.11,>=2.10->tensorflow-intel==2.10.0->tensorflow-cpu==2.10.0->tensorflow-directml-plugin) (2021.10.8)\n",
      "Collecting oauthlib>=3.0.0\n",
      "  Using cached oauthlib-3.2.2-py3-none-any.whl (151 kB)\n",
      "Requirement already satisfied: pyparsing!=3.0.5,>=2.0.2 in c:\\users\\shalt\\anaconda3\\lib\\site-packages (from packaging->tensorflow-intel==2.10.0->tensorflow-cpu==2.10.0->tensorflow-directml-plugin) (3.0.4)\n",
      "Installing collected packages: oauthlib, requests-oauthlib, tensorboard-plugin-wit, tensorboard-data-server, google-auth-oauthlib, absl-py, termcolor, tensorflow-io-gcs-filesystem, tensorflow-estimator, tensorboard, opt-einsum, libclang, keras-preprocessing, keras, google-pasta, gast, flatbuffers, astunparse, tensorflow-intel, tensorflow-cpu, tensorflow-directml-plugin\n",
      "Successfully installed absl-py-1.4.0 astunparse-1.6.3 flatbuffers-23.1.21 gast-0.4.0 google-auth-oauthlib-0.4.6 google-pasta-0.2.0 keras-2.10.0 keras-preprocessing-1.1.2 libclang-15.0.6.1 oauthlib-3.2.2 opt-einsum-3.3.0 requests-oauthlib-1.3.1 tensorboard-2.10.1 tensorboard-data-server-0.6.1 tensorboard-plugin-wit-1.8.1 tensorflow-cpu-2.10.0 tensorflow-directml-plugin-0.4.0.dev230202 tensorflow-estimator-2.10.0 tensorflow-intel-2.10.0 tensorflow-io-gcs-filesystem-0.31.0 termcolor-2.2.0\n"
     ]
    }
   ],
   "source": [
    "pip install tensorflow-directml-plugin"
   ]
  },
  {
   "cell_type": "code",
   "execution_count": 31,
   "id": "39d038dd",
   "metadata": {},
   "outputs": [],
   "source": [
    "data = pd.read_csv('hisotryWithRollingAverages.csv')"
   ]
  },
  {
   "cell_type": "code",
   "execution_count": 32,
   "id": "754e3b7f",
   "metadata": {},
   "outputs": [
    {
     "data": {
      "text/html": [
       "<div>\n",
       "<style scoped>\n",
       "    .dataframe tbody tr th:only-of-type {\n",
       "        vertical-align: middle;\n",
       "    }\n",
       "\n",
       "    .dataframe tbody tr th {\n",
       "        vertical-align: top;\n",
       "    }\n",
       "\n",
       "    .dataframe thead th {\n",
       "        text-align: right;\n",
       "    }\n",
       "</style>\n",
       "<table border=\"1\" class=\"dataframe\">\n",
       "  <thead>\n",
       "    <tr style=\"text-align: right;\">\n",
       "      <th></th>\n",
       "      <th>Unnamed: 0</th>\n",
       "      <th>Date time</th>\n",
       "      <th>Minimum Temperature</th>\n",
       "      <th>Maximum Temperature</th>\n",
       "      <th>Temperature</th>\n",
       "      <th>Dew Point</th>\n",
       "      <th>Relative Humidity</th>\n",
       "      <th>Heat Index</th>\n",
       "      <th>Wind Speed</th>\n",
       "      <th>Wind Gust</th>\n",
       "      <th>...</th>\n",
       "      <th>Weather Type</th>\n",
       "      <th>Conditions</th>\n",
       "      <th>temp_c</th>\n",
       "      <th>Month</th>\n",
       "      <th>Year</th>\n",
       "      <th>Temperature_Lag1</th>\n",
       "      <th>Temperature_Lag2</th>\n",
       "      <th>Precipitation_Lag1</th>\n",
       "      <th>Precipitation_Lag2</th>\n",
       "      <th>temp_7d_rolling</th>\n",
       "    </tr>\n",
       "  </thead>\n",
       "  <tbody>\n",
       "    <tr>\n",
       "      <th>0</th>\n",
       "      <td>0</td>\n",
       "      <td>2023-02-01 00:00:00</td>\n",
       "      <td>50.9</td>\n",
       "      <td>50.9</td>\n",
       "      <td>50.9</td>\n",
       "      <td>49.1</td>\n",
       "      <td>93.53</td>\n",
       "      <td>NaN</td>\n",
       "      <td>7.0</td>\n",
       "      <td>NaN</td>\n",
       "      <td>...</td>\n",
       "      <td>Thunderstorm</td>\n",
       "      <td>Overcast</td>\n",
       "      <td>10.500000</td>\n",
       "      <td>2</td>\n",
       "      <td>2023</td>\n",
       "      <td>NaN</td>\n",
       "      <td>NaN</td>\n",
       "      <td>NaN</td>\n",
       "      <td>NaN</td>\n",
       "      <td>NaN</td>\n",
       "    </tr>\n",
       "    <tr>\n",
       "      <th>1</th>\n",
       "      <td>1</td>\n",
       "      <td>2023-02-01 01:00:00</td>\n",
       "      <td>44.0</td>\n",
       "      <td>44.0</td>\n",
       "      <td>44.0</td>\n",
       "      <td>39.5</td>\n",
       "      <td>84.07</td>\n",
       "      <td>NaN</td>\n",
       "      <td>13.0</td>\n",
       "      <td>NaN</td>\n",
       "      <td>...</td>\n",
       "      <td>Thunderstorm</td>\n",
       "      <td>Overcast</td>\n",
       "      <td>6.666667</td>\n",
       "      <td>2</td>\n",
       "      <td>2023</td>\n",
       "      <td>50.9</td>\n",
       "      <td>NaN</td>\n",
       "      <td>0.0</td>\n",
       "      <td>NaN</td>\n",
       "      <td>NaN</td>\n",
       "    </tr>\n",
       "    <tr>\n",
       "      <th>2</th>\n",
       "      <td>2</td>\n",
       "      <td>2023-02-01 02:00:00</td>\n",
       "      <td>44.7</td>\n",
       "      <td>44.7</td>\n",
       "      <td>44.7</td>\n",
       "      <td>39.9</td>\n",
       "      <td>82.97</td>\n",
       "      <td>NaN</td>\n",
       "      <td>10.1</td>\n",
       "      <td>NaN</td>\n",
       "      <td>...</td>\n",
       "      <td>Mist, Rain, Thunderstorm</td>\n",
       "      <td>Overcast</td>\n",
       "      <td>7.055556</td>\n",
       "      <td>2</td>\n",
       "      <td>2023</td>\n",
       "      <td>44.0</td>\n",
       "      <td>50.9</td>\n",
       "      <td>0.0</td>\n",
       "      <td>0.0</td>\n",
       "      <td>NaN</td>\n",
       "    </tr>\n",
       "    <tr>\n",
       "      <th>3</th>\n",
       "      <td>3</td>\n",
       "      <td>2023-02-01 03:00:00</td>\n",
       "      <td>44.7</td>\n",
       "      <td>44.7</td>\n",
       "      <td>44.7</td>\n",
       "      <td>39.9</td>\n",
       "      <td>82.95</td>\n",
       "      <td>NaN</td>\n",
       "      <td>14.3</td>\n",
       "      <td>NaN</td>\n",
       "      <td>...</td>\n",
       "      <td>Thunderstorm, Light Rain</td>\n",
       "      <td>Overcast</td>\n",
       "      <td>7.055556</td>\n",
       "      <td>2</td>\n",
       "      <td>2023</td>\n",
       "      <td>44.7</td>\n",
       "      <td>44.0</td>\n",
       "      <td>0.0</td>\n",
       "      <td>0.0</td>\n",
       "      <td>NaN</td>\n",
       "    </tr>\n",
       "    <tr>\n",
       "      <th>4</th>\n",
       "      <td>4</td>\n",
       "      <td>2023-02-01 04:00:00</td>\n",
       "      <td>44.7</td>\n",
       "      <td>44.7</td>\n",
       "      <td>44.7</td>\n",
       "      <td>39.9</td>\n",
       "      <td>82.97</td>\n",
       "      <td>NaN</td>\n",
       "      <td>9.8</td>\n",
       "      <td>NaN</td>\n",
       "      <td>...</td>\n",
       "      <td>Rain, Thunderstorm</td>\n",
       "      <td>Overcast</td>\n",
       "      <td>7.055556</td>\n",
       "      <td>2</td>\n",
       "      <td>2023</td>\n",
       "      <td>44.7</td>\n",
       "      <td>44.7</td>\n",
       "      <td>0.0</td>\n",
       "      <td>0.0</td>\n",
       "      <td>NaN</td>\n",
       "    </tr>\n",
       "  </tbody>\n",
       "</table>\n",
       "<p>5 rows × 27 columns</p>\n",
       "</div>"
      ],
      "text/plain": [
       "   Unnamed: 0            Date time  Minimum Temperature  Maximum Temperature  \\\n",
       "0           0  2023-02-01 00:00:00                 50.9                 50.9   \n",
       "1           1  2023-02-01 01:00:00                 44.0                 44.0   \n",
       "2           2  2023-02-01 02:00:00                 44.7                 44.7   \n",
       "3           3  2023-02-01 03:00:00                 44.7                 44.7   \n",
       "4           4  2023-02-01 04:00:00                 44.7                 44.7   \n",
       "\n",
       "   Temperature  Dew Point  Relative Humidity  Heat Index  Wind Speed  \\\n",
       "0         50.9       49.1              93.53         NaN         7.0   \n",
       "1         44.0       39.5              84.07         NaN        13.0   \n",
       "2         44.7       39.9              82.97         NaN        10.1   \n",
       "3         44.7       39.9              82.95         NaN        14.3   \n",
       "4         44.7       39.9              82.97         NaN         9.8   \n",
       "\n",
       "   Wind Gust  ...              Weather Type  Conditions     temp_c  Month  \\\n",
       "0        NaN  ...              Thunderstorm    Overcast  10.500000      2   \n",
       "1        NaN  ...              Thunderstorm    Overcast   6.666667      2   \n",
       "2        NaN  ...  Mist, Rain, Thunderstorm    Overcast   7.055556      2   \n",
       "3        NaN  ...  Thunderstorm, Light Rain    Overcast   7.055556      2   \n",
       "4        NaN  ...        Rain, Thunderstorm    Overcast   7.055556      2   \n",
       "\n",
       "   Year  Temperature_Lag1  Temperature_Lag2 Precipitation_Lag1  \\\n",
       "0  2023               NaN               NaN                NaN   \n",
       "1  2023              50.9               NaN                0.0   \n",
       "2  2023              44.0              50.9                0.0   \n",
       "3  2023              44.7              44.0                0.0   \n",
       "4  2023              44.7              44.7                0.0   \n",
       "\n",
       "  Precipitation_Lag2  temp_7d_rolling  \n",
       "0                NaN              NaN  \n",
       "1                NaN              NaN  \n",
       "2                0.0              NaN  \n",
       "3                0.0              NaN  \n",
       "4                0.0              NaN  \n",
       "\n",
       "[5 rows x 27 columns]"
      ]
     },
     "execution_count": 32,
     "metadata": {},
     "output_type": "execute_result"
    }
   ],
   "source": [
    "data.head()"
   ]
  },
  {
   "cell_type": "code",
   "execution_count": 33,
   "id": "0b42381b",
   "metadata": {},
   "outputs": [
    {
     "name": "stdout",
     "output_type": "stream",
     "text": [
      "<class 'pandas.core.frame.DataFrame'>\n",
      "RangeIndex: 439918 entries, 0 to 439917\n",
      "Data columns (total 27 columns):\n",
      " #   Column               Non-Null Count   Dtype  \n",
      "---  ------               --------------   -----  \n",
      " 0   Unnamed: 0           439918 non-null  int64  \n",
      " 1   Date time            439918 non-null  object \n",
      " 2   Minimum Temperature  421821 non-null  float64\n",
      " 3   Maximum Temperature  421821 non-null  float64\n",
      " 4   Temperature          421821 non-null  float64\n",
      " 5   Dew Point            421543 non-null  float64\n",
      " 6   Relative Humidity    421543 non-null  float64\n",
      " 7   Heat Index           60366 non-null   float64\n",
      " 8   Wind Speed           421543 non-null  float64\n",
      " 9   Wind Gust            1026 non-null    float64\n",
      " 10  Wind Direction       397295 non-null  float64\n",
      " 11  Wind Chill           40460 non-null   float64\n",
      " 12  Precipitation        439918 non-null  float64\n",
      " 13  Snow Depth           196268 non-null  float64\n",
      " 14  Visibility           421334 non-null  float64\n",
      " 15  Cloud Cover          358298 non-null  float64\n",
      " 16  Sea Level Pressure   185891 non-null  float64\n",
      " 17  Weather Type         231106 non-null  object \n",
      " 18  Conditions           421821 non-null  object \n",
      " 19  temp_c               421821 non-null  float64\n",
      " 20  Month                439918 non-null  int64  \n",
      " 21  Year                 439918 non-null  int64  \n",
      " 22  Temperature_Lag1     421820 non-null  float64\n",
      " 23  Temperature_Lag2     421820 non-null  float64\n",
      " 24  Precipitation_Lag1   439917 non-null  float64\n",
      " 25  Precipitation_Lag2   439916 non-null  float64\n",
      " 26  temp_7d_rolling      202857 non-null  float64\n",
      "dtypes: float64(21), int64(3), object(3)\n",
      "memory usage: 90.6+ MB\n"
     ]
    }
   ],
   "source": [
    "data.info()"
   ]
  },
  {
   "cell_type": "code",
   "execution_count": 22,
   "id": "6f7cd36f",
   "metadata": {},
   "outputs": [
    {
     "data": {
      "text/plain": [
       "array([[0, 1, 0, 0, 0, 0],\n",
       "       [0, 1, 0, 0, 0, 0],\n",
       "       [0, 1, 0, 0, 0, 0],\n",
       "       ...,\n",
       "       [0, 0, 1, 0, 0, 0],\n",
       "       [0, 0, 0, 0, 0, 0],\n",
       "       [0, 1, 0, 0, 0, 0]], dtype=uint8)"
      ]
     },
     "execution_count": 22,
     "metadata": {},
     "output_type": "execute_result"
    }
   ],
   "source": [
    "train_labels_onehot = pd.get_dummies(data.Conditions).values\n",
    "train_labels_onehot"
   ]
  },
  {
   "cell_type": "code",
   "execution_count": 35,
   "id": "c62bf1b7",
   "metadata": {},
   "outputs": [],
   "source": [
    "x_vectors = data.drop('Conditions', axis=1)"
   ]
  },
  {
   "cell_type": "code",
   "execution_count": 37,
   "id": "f7538cd6",
   "metadata": {},
   "outputs": [
    {
     "ename": "AttributeError",
     "evalue": "'DataFrame' object has no attribute 'getdummies'",
     "output_type": "error",
     "traceback": [
      "\u001b[1;31m---------------------------------------------------------------------------\u001b[0m",
      "\u001b[1;31mAttributeError\u001b[0m                            Traceback (most recent call last)",
      "Input \u001b[1;32mIn [37]\u001b[0m, in \u001b[0;36m<cell line: 1>\u001b[1;34m()\u001b[0m\n\u001b[1;32m----> 1\u001b[0m \u001b[43mx_vectors\u001b[49m\u001b[38;5;241;43m.\u001b[39;49m\u001b[43mgetdummies\u001b[49m()\n",
      "File \u001b[1;32m~\\anaconda3\\lib\\site-packages\\pandas\\core\\generic.py:5575\u001b[0m, in \u001b[0;36mNDFrame.__getattr__\u001b[1;34m(self, name)\u001b[0m\n\u001b[0;32m   5568\u001b[0m \u001b[38;5;28;01mif\u001b[39;00m (\n\u001b[0;32m   5569\u001b[0m     name \u001b[38;5;129;01mnot\u001b[39;00m \u001b[38;5;129;01min\u001b[39;00m \u001b[38;5;28mself\u001b[39m\u001b[38;5;241m.\u001b[39m_internal_names_set\n\u001b[0;32m   5570\u001b[0m     \u001b[38;5;129;01mand\u001b[39;00m name \u001b[38;5;129;01mnot\u001b[39;00m \u001b[38;5;129;01min\u001b[39;00m \u001b[38;5;28mself\u001b[39m\u001b[38;5;241m.\u001b[39m_metadata\n\u001b[0;32m   5571\u001b[0m     \u001b[38;5;129;01mand\u001b[39;00m name \u001b[38;5;129;01mnot\u001b[39;00m \u001b[38;5;129;01min\u001b[39;00m \u001b[38;5;28mself\u001b[39m\u001b[38;5;241m.\u001b[39m_accessors\n\u001b[0;32m   5572\u001b[0m     \u001b[38;5;129;01mand\u001b[39;00m \u001b[38;5;28mself\u001b[39m\u001b[38;5;241m.\u001b[39m_info_axis\u001b[38;5;241m.\u001b[39m_can_hold_identifiers_and_holds_name(name)\n\u001b[0;32m   5573\u001b[0m ):\n\u001b[0;32m   5574\u001b[0m     \u001b[38;5;28;01mreturn\u001b[39;00m \u001b[38;5;28mself\u001b[39m[name]\n\u001b[1;32m-> 5575\u001b[0m \u001b[38;5;28;01mreturn\u001b[39;00m \u001b[38;5;28;43mobject\u001b[39;49m\u001b[38;5;241;43m.\u001b[39;49m\u001b[38;5;21;43m__getattribute__\u001b[39;49m\u001b[43m(\u001b[49m\u001b[38;5;28;43mself\u001b[39;49m\u001b[43m,\u001b[49m\u001b[43m \u001b[49m\u001b[43mname\u001b[49m\u001b[43m)\u001b[49m\n",
      "\u001b[1;31mAttributeError\u001b[0m: 'DataFrame' object has no attribute 'getdummies'"
     ]
    }
   ],
   "source": [
    "Weather_Type.getdummies()"
   ]
  },
  {
   "cell_type": "code",
   "execution_count": 26,
   "id": "1a8148c3",
   "metadata": {},
   "outputs": [
    {
     "name": "stdout",
     "output_type": "stream",
     "text": [
      "<class 'pandas.core.frame.DataFrame'>\n",
      "RangeIndex: 439918 entries, 0 to 439917\n",
      "Data columns (total 21 columns):\n",
      " #   Column               Non-Null Count   Dtype  \n",
      "---  ------               --------------   -----  \n",
      " 0   Minimum Temperature  421821 non-null  float64\n",
      " 1   Maximum Temperature  421821 non-null  float64\n",
      " 2   Temperature          421821 non-null  float64\n",
      " 3   Dew Point            421543 non-null  float64\n",
      " 4   Relative Humidity    421543 non-null  float64\n",
      " 5   Heat Index           60366 non-null   float64\n",
      " 6   Wind Speed           421543 non-null  float64\n",
      " 7   Wind Gust            1026 non-null    float64\n",
      " 8   Wind Direction       397295 non-null  float64\n",
      " 9   Wind Chill           40460 non-null   float64\n",
      " 10  Precipitation        439918 non-null  float64\n",
      " 11  Snow Depth           196268 non-null  float64\n",
      " 12  Visibility           421334 non-null  float64\n",
      " 13  Cloud Cover          358298 non-null  float64\n",
      " 14  Sea Level Pressure   185891 non-null  float64\n",
      " 15  temp_c               421821 non-null  float64\n",
      " 16  Temperature_Lag1     421820 non-null  float64\n",
      " 17  Temperature_Lag2     421820 non-null  float64\n",
      " 18  Precipitation_Lag1   439917 non-null  float64\n",
      " 19  Precipitation_Lag2   439916 non-null  float64\n",
      " 20  temp_7d_rolling      202857 non-null  float64\n",
      "dtypes: float64(21)\n",
      "memory usage: 70.5 MB\n",
      "None\n"
     ]
    }
   ],
   "source": [
    "df_int = data.select_dtypes(include=['float']).astype(int, errors='ignore')\n",
    "print(df_int.info())\n",
    "data = pd.concat([df_int, data.select_dtypes(exclude=['float'])], axis=1)"
   ]
  },
  {
   "cell_type": "code",
   "execution_count": 27,
   "id": "9a9d0115",
   "metadata": {},
   "outputs": [
    {
     "name": "stdout",
     "output_type": "stream",
     "text": [
      "<class 'pandas.core.frame.DataFrame'>\n",
      "RangeIndex: 439918 entries, 0 to 439917\n",
      "Data columns (total 27 columns):\n",
      " #   Column               Non-Null Count   Dtype  \n",
      "---  ------               --------------   -----  \n",
      " 0   Minimum Temperature  421821 non-null  float64\n",
      " 1   Maximum Temperature  421821 non-null  float64\n",
      " 2   Temperature          421821 non-null  float64\n",
      " 3   Dew Point            421543 non-null  float64\n",
      " 4   Relative Humidity    421543 non-null  float64\n",
      " 5   Heat Index           60366 non-null   float64\n",
      " 6   Wind Speed           421543 non-null  float64\n",
      " 7   Wind Gust            1026 non-null    float64\n",
      " 8   Wind Direction       397295 non-null  float64\n",
      " 9   Wind Chill           40460 non-null   float64\n",
      " 10  Precipitation        439918 non-null  float64\n",
      " 11  Snow Depth           196268 non-null  float64\n",
      " 12  Visibility           421334 non-null  float64\n",
      " 13  Cloud Cover          358298 non-null  float64\n",
      " 14  Sea Level Pressure   185891 non-null  float64\n",
      " 15  temp_c               421821 non-null  float64\n",
      " 16  Temperature_Lag1     421820 non-null  float64\n",
      " 17  Temperature_Lag2     421820 non-null  float64\n",
      " 18  Precipitation_Lag1   439917 non-null  float64\n",
      " 19  Precipitation_Lag2   439916 non-null  float64\n",
      " 20  temp_7d_rolling      202857 non-null  float64\n",
      " 21  Unnamed: 0           439918 non-null  int64  \n",
      " 22  Date time            439918 non-null  object \n",
      " 23  Weather Type         231106 non-null  object \n",
      " 24  Conditions           421821 non-null  object \n",
      " 25  Month                439918 non-null  int64  \n",
      " 26  Year                 439918 non-null  int64  \n",
      "dtypes: float64(21), int64(3), object(3)\n",
      "memory usage: 90.6+ MB\n"
     ]
    }
   ],
   "source": [
    "data.info()"
   ]
  },
  {
   "cell_type": "code",
   "execution_count": null,
   "id": "381d1f03",
   "metadata": {},
   "outputs": [],
   "source": [
    "def getTeamsStats(df, numOfRecords = 10):\n",
    "    \"\"\"\n",
    "    gets stats for each team from the past 'numOfRecords' games, split into home / away statistics. relevant stats are the\n",
    "    aggregated fields such as total / avg fields\n",
    "    \"\"\"\n",
    "    lastAwayGames = pd.DataFrame(df[df['is_home_team'] == False].sort_values(['game_date'], ascending=False).groupby(['team_name']).head(numOfRecords))\n",
    "    lastHomeGames = pd.DataFrame(df[df['is_home_team'] == True].sort_values(['game_date'], ascending=False).groupby(['team_name']).head(numOfRecords))\n",
    "    fieldsToCalculate = [col for col in list(df.columns) if col.startswith('total') or col.startswith('avg')] + ['game_won']\n",
    "    teamsStats = {teamName: {'home': dict(), 'away': dict()} for teamName in df.team_name.unique()}\n",
    "    for colName in fieldsToCalculate:\n",
    "        for teamName, mean in dict(lastHomeGames.groupby(['team_name'])[colName].mean()).items():\n",
    "            teamsStats[teamName]['home'][f'{colName}_mean_home'] = mean\n",
    "        for teamName, mean in dict(lastAwayGames.groupby(['team_name'])[colName].mean()).items():\n",
    "            teamsStats[teamName]['away'][f'{colName}_mean_away'] = mean\n",
    "    return teamsStats"
   ]
  },
  {
   "cell_type": "code",
   "execution_count": null,
   "id": "0a6eda96",
   "metadata": {},
   "outputs": [],
   "source": [
    "def trainModels(numberOfLayersToTest, epochsToTest, batchSizesToTest, trainData, trainLabels):\n",
    "    fitModels = dict()\n",
    "    histories = dict()\n",
    "    for numberOfLayers in numberOfLayersToTest:\n",
    "        for epochs in epochsToTest:\n",
    "            for batchSize in batchSizesToTest:\n",
    "                model = generateModelPerLayerNumber(numberOfLayers)\n",
    "                history, fitModel = dynamicTrainModel(trainData, trainLabels, epochs, batchSize, model)\n",
    "                key = f'numberOfLayers is {numberOfLayers}. epochs is {epochs}. batchSize is {batchSize}'\n",
    "                testModel(history, f'accuracy vs loss, {numberOfLayers} layers, {epochs} epochs, {batchSize} batchSize')\n",
    "                fitModels[key] = fitModel\n",
    "                histories[key] = history\n",
    "    return histories, fitModels"
   ]
  },
  {
   "cell_type": "code",
   "execution_count": null,
   "id": "b910eb6d",
   "metadata": {},
   "outputs": [],
   "source": [
    "numberOfLayersToTest = [3, 7, 10, 15, 20, 50]\n",
    "epochsToTest = [10, 20, 30]\n",
    "batchSizesToTest = [50, 100, 150]\n",
    "histories, models = trainModels(numberOfLayersToTest, epochsToTest, batchSizesToTest, splitTrainImages, splitTrainLabels)"
   ]
  },
  {
   "cell_type": "code",
   "execution_count": null,
   "id": "784f4655",
   "metadata": {},
   "outputs": [],
   "source": [
    "def dynamicTrainModel(trainData, trainLabels, epochs, batchSize, model):\n",
    "    imagesDf = model.fit(\n",
    "        trainData, trainLabels, \n",
    "        validation_data = None,\n",
    "        epochs = epochs,\n",
    "        batch_size = batchSize,\n",
    "        verbose = 1\n",
    "    )\n",
    "    return imagesDf.history, model"
   ]
  },
  {
   "cell_type": "code",
   "execution_count": 12,
   "id": "48c8073b",
   "metadata": {},
   "outputs": [],
   "source": [
    "def generateModelPerLayerNumber(numberOfLayers):\n",
    "    \"\"\"\n",
    "    generates a model with numOfLayers layers, with the first layer with 512 dimensions, and the last layer with 10, and the \n",
    "    rest are equally spread in between linearly. for example 5 layers will be 512, 387, 262, 137, 10\n",
    "    \"\"\"\n",
    "    model = Sequential()\n",
    "    diff = 502 // (numberOfLayers - 1) # difference between each dimension\n",
    "    \n",
    "    model.add(Dense(512, input_dim=28*28, activation='relu'))\n",
    "    \n",
    "    for i in range (1, numberOfLayers - 1):\n",
    "        model.add(Dense(512 - diff * i, 'relu'))\n",
    "    \n",
    "    model.add(Dense(10, activation='sigmoid'))\n",
    "    model.compile(loss = 'mean_squared_error', optimizer = 'adam', metrics = ['accuracy'])\n",
    "    return model"
   ]
  },
  {
   "cell_type": "code",
   "execution_count": 29,
   "id": "c488d9b8",
   "metadata": {},
   "outputs": [],
   "source": [
    "model = generateModelPerLayerNumber(3)"
   ]
  },
  {
   "cell_type": "code",
   "execution_count": 30,
   "id": "b1e83029",
   "metadata": {},
   "outputs": [
    {
     "ename": "ValueError",
     "evalue": "Failed to convert a NumPy array to a Tensor (Unsupported object type float).",
     "output_type": "error",
     "traceback": [
      "\u001b[1;31m---------------------------------------------------------------------------\u001b[0m",
      "\u001b[1;31mValueError\u001b[0m                                Traceback (most recent call last)",
      "Input \u001b[1;32mIn [30]\u001b[0m, in \u001b[0;36m<cell line: 1>\u001b[1;34m()\u001b[0m\n\u001b[1;32m----> 1\u001b[0m \u001b[43mmodel\u001b[49m\u001b[38;5;241;43m.\u001b[39;49m\u001b[43mfit\u001b[49m\u001b[43m(\u001b[49m\u001b[43mdata\u001b[49m\u001b[38;5;241;43m.\u001b[39;49m\u001b[43mdrop\u001b[49m\u001b[43m(\u001b[49m\u001b[38;5;124;43m'\u001b[39;49m\u001b[38;5;124;43mConditions\u001b[39;49m\u001b[38;5;124;43m'\u001b[39;49m\u001b[43m,\u001b[49m\u001b[43m \u001b[49m\u001b[43maxis\u001b[49m\u001b[38;5;241;43m=\u001b[39;49m\u001b[38;5;241;43m1\u001b[39;49m\u001b[43m)\u001b[49m\u001b[43m,\u001b[49m\u001b[43m \u001b[49m\u001b[43mdata\u001b[49m\u001b[38;5;241;43m.\u001b[39;49m\u001b[43mConditions\u001b[49m\u001b[43m,\u001b[49m\u001b[43m \u001b[49m\u001b[43mvalidation_split\u001b[49m\u001b[38;5;241;43m=\u001b[39;49m\u001b[38;5;241;43m0.2\u001b[39;49m\u001b[43m,\u001b[49m\u001b[43m \u001b[49m\u001b[43mepochs\u001b[49m\u001b[38;5;241;43m=\u001b[39;49m\u001b[38;5;241;43m10\u001b[39;49m\u001b[43m,\u001b[49m\u001b[43m \u001b[49m\u001b[43mverbose\u001b[49m\u001b[38;5;241;43m=\u001b[39;49m\u001b[38;5;241;43m1\u001b[39;49m\u001b[43m)\u001b[49m\n",
      "File \u001b[1;32m~\\anaconda3\\lib\\site-packages\\keras\\utils\\traceback_utils.py:70\u001b[0m, in \u001b[0;36mfilter_traceback.<locals>.error_handler\u001b[1;34m(*args, **kwargs)\u001b[0m\n\u001b[0;32m     67\u001b[0m     filtered_tb \u001b[38;5;241m=\u001b[39m _process_traceback_frames(e\u001b[38;5;241m.\u001b[39m__traceback__)\n\u001b[0;32m     68\u001b[0m     \u001b[38;5;66;03m# To get the full stack trace, call:\u001b[39;00m\n\u001b[0;32m     69\u001b[0m     \u001b[38;5;66;03m# `tf.debugging.disable_traceback_filtering()`\u001b[39;00m\n\u001b[1;32m---> 70\u001b[0m     \u001b[38;5;28;01mraise\u001b[39;00m e\u001b[38;5;241m.\u001b[39mwith_traceback(filtered_tb) \u001b[38;5;28;01mfrom\u001b[39;00m \u001b[38;5;28mNone\u001b[39m\n\u001b[0;32m     71\u001b[0m \u001b[38;5;28;01mfinally\u001b[39;00m:\n\u001b[0;32m     72\u001b[0m     \u001b[38;5;28;01mdel\u001b[39;00m filtered_tb\n",
      "File \u001b[1;32m~\\anaconda3\\lib\\site-packages\\tensorflow\\python\\framework\\constant_op.py:102\u001b[0m, in \u001b[0;36mconvert_to_eager_tensor\u001b[1;34m(value, ctx, dtype)\u001b[0m\n\u001b[0;32m    100\u001b[0m     dtype \u001b[38;5;241m=\u001b[39m dtypes\u001b[38;5;241m.\u001b[39mas_dtype(dtype)\u001b[38;5;241m.\u001b[39mas_datatype_enum\n\u001b[0;32m    101\u001b[0m ctx\u001b[38;5;241m.\u001b[39mensure_initialized()\n\u001b[1;32m--> 102\u001b[0m \u001b[38;5;28;01mreturn\u001b[39;00m \u001b[43mops\u001b[49m\u001b[38;5;241;43m.\u001b[39;49m\u001b[43mEagerTensor\u001b[49m\u001b[43m(\u001b[49m\u001b[43mvalue\u001b[49m\u001b[43m,\u001b[49m\u001b[43m \u001b[49m\u001b[43mctx\u001b[49m\u001b[38;5;241;43m.\u001b[39;49m\u001b[43mdevice_name\u001b[49m\u001b[43m,\u001b[49m\u001b[43m \u001b[49m\u001b[43mdtype\u001b[49m\u001b[43m)\u001b[49m\n",
      "\u001b[1;31mValueError\u001b[0m: Failed to convert a NumPy array to a Tensor (Unsupported object type float)."
     ]
    }
   ],
   "source": [
    "model.fit(data.drop('Conditions', axis=1), data.Conditions, validation_split=0.2, epochs=10, verbose=1)"
   ]
  },
  {
   "cell_type": "code",
   "execution_count": 15,
   "id": "7ebbccc1",
   "metadata": {},
   "outputs": [
    {
     "data": {
      "text/plain": [
       "array(['Overcast', 'Rain, Overcast', 'Partially cloudy',\n",
       "       'Rain, Partially cloudy', 'Clear', 'Rain', nan], dtype=object)"
      ]
     },
     "execution_count": 15,
     "metadata": {},
     "output_type": "execute_result"
    }
   ],
   "source": [
    "data.Conditions.unique()"
   ]
  }
 ],
 "metadata": {
  "kernelspec": {
   "display_name": "Python 3 (ipykernel)",
   "language": "python",
   "name": "python3"
  },
  "language_info": {
   "codemirror_mode": {
    "name": "ipython",
    "version": 3
   },
   "file_extension": ".py",
   "mimetype": "text/x-python",
   "name": "python",
   "nbconvert_exporter": "python",
   "pygments_lexer": "ipython3",
   "version": "3.9.12"
  }
 },
 "nbformat": 4,
 "nbformat_minor": 5
}
